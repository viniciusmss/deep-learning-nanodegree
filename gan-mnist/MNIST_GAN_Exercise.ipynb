{
 "cells": [
  {
   "cell_type": "markdown",
   "metadata": {},
   "source": [
    "# Generative Adversarial Network\n",
    "\n",
    "In this notebook, we'll be building a generative adversarial network (GAN) trained on the MNIST dataset. From this, we'll be able to generate new handwritten digits!\n",
    "\n",
    "GANs were [first reported on](https://arxiv.org/abs/1406.2661) in 2014 from Ian Goodfellow and others in Yoshua Bengio's lab. Since then, GANs have exploded in popularity. Here are a few examples to check out:\n",
    "\n",
    "* [Pix2Pix](https://affinelayer.com/pixsrv/) \n",
    "* [CycleGAN & Pix2Pix in PyTorch, Jun-Yan Zhu](https://github.com/junyanz/pytorch-CycleGAN-and-pix2pix)\n",
    "* [A list of generative models](https://github.com/wiseodd/generative-models)\n",
    "\n",
    "The idea behind GANs is that you have two networks, a generator $G$ and a discriminator $D$, competing against each other. The generator makes \"fake\" data to pass to the discriminator. The discriminator also sees real training data and predicts if the data it's received is real or fake. \n",
    "> * The generator is trained to fool the discriminator, it wants to output data that looks _as close as possible_ to real, training data. \n",
    "* The discriminator is a classifier that is trained to figure out which data is real and which is fake. \n",
    "\n",
    "What ends up happening is that the generator learns to make data that is indistinguishable from real data to the discriminator.\n",
    "\n",
    "<img src='assets/gan_pipeline.png' width=70% />\n",
    "\n",
    "The general structure of a GAN is shown in the diagram above, using MNIST images as data. The latent sample is a random vector that the generator uses to construct its fake images. This is often called a **latent vector** and that vector space is called **latent space**. As the generator trains, it figures out how to map latent vectors to recognizable images that can fool the discriminator.\n",
    "\n",
    "If you're interested in generating only new images, you can throw out the discriminator after training. In this notebook, I'll show you how to define and train these adversarial networks in PyTorch and generate new images!"
   ]
  },
  {
   "cell_type": "code",
   "execution_count": 1,
   "metadata": {},
   "outputs": [],
   "source": [
    "%matplotlib inline\n",
    "\n",
    "import numpy as np\n",
    "import torch\n",
    "import matplotlib.pyplot as plt"
   ]
  },
  {
   "cell_type": "code",
   "execution_count": 2,
   "metadata": {},
   "outputs": [
    {
     "name": "stdout",
     "output_type": "stream",
     "text": [
      "Downloading http://yann.lecun.com/exdb/mnist/train-images-idx3-ubyte.gz to data\\MNIST\\raw\\train-images-idx3-ubyte.gz\n"
     ]
    },
    {
     "name": "stderr",
     "output_type": "stream",
     "text": [
      "100%|█████████▉| 9895936/9912422 [00:10<00:00, 1407616.98it/s]"
     ]
    },
    {
     "name": "stdout",
     "output_type": "stream",
     "text": [
      "Extracting data\\MNIST\\raw\\train-images-idx3-ubyte.gz to data\\MNIST\\raw\n",
      "Downloading http://yann.lecun.com/exdb/mnist/train-labels-idx1-ubyte.gz to data\\MNIST\\raw\\train-labels-idx1-ubyte.gz\n"
     ]
    },
    {
     "name": "stderr",
     "output_type": "stream",
     "text": [
      "\n",
      "0it [00:00, ?it/s]\n",
      "  0%|          | 0/28881 [00:00<?, ?it/s]\n",
      "32768it [00:00, 69563.91it/s]            "
     ]
    },
    {
     "name": "stdout",
     "output_type": "stream",
     "text": [
      "Extracting data\\MNIST\\raw\\train-labels-idx1-ubyte.gz to data\\MNIST\\raw\n",
      "Downloading http://yann.lecun.com/exdb/mnist/t10k-images-idx3-ubyte.gz to data\\MNIST\\raw\\t10k-images-idx3-ubyte.gz\n"
     ]
    },
    {
     "name": "stderr",
     "output_type": "stream",
     "text": [
      "\n",
      "0it [00:00, ?it/s]\n",
      "  0%|          | 0/1648877 [00:00<?, ?it/s]\n",
      "  2%|▏         | 40960/1648877 [00:00<00:05, 312942.19it/s]\n",
      "  7%|▋         | 114688/1648877 [00:00<00:04, 375922.07it/s]\n",
      " 13%|█▎        | 212992/1648877 [00:00<00:03, 459565.63it/s]\n",
      " 22%|██▏       | 360448/1648877 [00:00<00:02, 574942.16it/s]\n",
      " 31%|███       | 507904/1648877 [00:00<00:01, 689914.57it/s]\n",
      " 41%|████      | 671744/1648877 [00:01<00:01, 828973.49it/s]\n",
      " 49%|████▊     | 802816/1648877 [00:01<00:00, 913673.52it/s]\n",
      " 58%|█████▊    | 950272/1648877 [00:01<00:00, 966212.41it/s]\n",
      " 67%|██████▋   | 1097728/1648877 [00:01<00:00, 1076151.25it/s]\n",
      " 75%|███████▌  | 1236992/1648877 [00:01<00:00, 1145633.68it/s]\n",
      " 84%|████████▍ | 1392640/1648877 [00:01<00:00, 1195483.19it/s]\n",
      " 95%|█████████▍| 1564672/1648877 [00:01<00:00, 1269058.68it/s]\n",
      "1654784it [00:01, 936705.85it/s]                              "
     ]
    },
    {
     "name": "stdout",
     "output_type": "stream",
     "text": [
      "Extracting data\\MNIST\\raw\\t10k-images-idx3-ubyte.gz to data\\MNIST\\raw\n",
      "Downloading http://yann.lecun.com/exdb/mnist/t10k-labels-idx1-ubyte.gz to data\\MNIST\\raw\\t10k-labels-idx1-ubyte.gz\n"
     ]
    },
    {
     "name": "stderr",
     "output_type": "stream",
     "text": [
      "\n",
      "0it [00:00, ?it/s]\n",
      "  0%|          | 0/4542 [00:00<?, ?it/s]\n",
      "8192it [00:00, 18520.38it/s]            "
     ]
    },
    {
     "name": "stdout",
     "output_type": "stream",
     "text": [
      "Extracting data\\MNIST\\raw\\t10k-labels-idx1-ubyte.gz to data\\MNIST\\raw\n",
      "Processing...\n",
      "Done!\n"
     ]
    },
    {
     "name": "stderr",
     "output_type": "stream",
     "text": [
      "\r",
      "9920512it [00:30, 1407616.98it/s]                             "
     ]
    }
   ],
   "source": [
    "from torchvision import datasets\n",
    "import torchvision.transforms as transforms\n",
    "\n",
    "# number of subprocesses to use for data loading\n",
    "num_workers = 0\n",
    "# how many samples per batch to load\n",
    "batch_size = 64\n",
    "\n",
    "# convert data to torch.FloatTensor\n",
    "transform = transforms.ToTensor()\n",
    "\n",
    "# get the training datasets\n",
    "train_data = datasets.MNIST(root='data', train=True,\n",
    "                                   download=True, transform=transform)\n",
    "\n",
    "# prepare data loader\n",
    "train_loader = torch.utils.data.DataLoader(train_data, batch_size=batch_size,\n",
    "                                           num_workers=num_workers)"
   ]
  },
  {
   "cell_type": "markdown",
   "metadata": {},
   "source": [
    "### Visualize the data"
   ]
  },
  {
   "cell_type": "code",
   "execution_count": 3,
   "metadata": {},
   "outputs": [
    {
     "data": {
      "text/plain": [
       "<matplotlib.image.AxesImage at 0x25c0dfdf348>"
      ]
     },
     "execution_count": 3,
     "metadata": {},
     "output_type": "execute_result"
    },
    {
     "data": {
      "image/png": "[encoded data removed]",
      "text/plain": [
       "<Figure size 216x216 with 1 Axes>"
      ]
     },
     "metadata": {
      "needs_background": "light"
     },
     "output_type": "display_data"
    }
   ],
   "source": [
    "# obtain one batch of training images\n",
    "dataiter = iter(train_loader)\n",
    "images, labels = dataiter.next()\n",
    "images = images.numpy()\n",
    "\n",
    "# get one image from the batch\n",
    "img = np.squeeze(images[0])\n",
    "\n",
    "fig = plt.figure(figsize = (3,3)) \n",
    "ax = fig.add_subplot(111)\n",
    "ax.imshow(img, cmap='gray')"
   ]
  },
  {
   "cell_type": "markdown",
   "metadata": {},
   "source": [
    "---\n",
    "# Define the Model\n",
    "\n",
    "A GAN is comprised of two adversarial networks, a discriminator and a generator."
   ]
  },
  {
   "cell_type": "markdown",
   "metadata": {},
   "source": [
    "## Discriminator\n",
    "\n",
    "The discriminator network is going to be a pretty typical linear classifier. To make this network a universal function approximator, we'll need at least one hidden layer, and these hidden layers should have one key attribute:\n",
    "> All hidden layers will have a [Leaky ReLu](https://pytorch.org/docs/stable/nn.html#torch.nn.LeakyReLU) activation function applied to their outputs.\n",
    "\n",
    "<img src='assets/gan_network.png' width=70% />\n",
    "\n",
    "#### Leaky ReLu\n",
    "\n",
    "We should use a leaky ReLU to allow gradients to flow backwards through the layer unimpeded. A leaky ReLU is like a normal ReLU, except that there is a small non-zero output for negative input values.\n",
    "\n",
    "<img src='assets/leaky_relu.png' width=40% />\n",
    "\n",
    "#### Sigmoid Output\n",
    "\n",
    "We'll also take the approach of using a more numerically stable loss function on the outputs. Recall that we want the discriminator to output a value 0-1 indicating whether an image is _real or fake_. \n",
    "> We will ultimately use [BCEWithLogitsLoss](https://pytorch.org/docs/stable/nn.html#bcewithlogitsloss), which combines a `sigmoid` activation function **and** and binary cross entropy loss in one function. \n",
    "\n",
    "So, our final output layer should not have any activation function applied to it."
   ]
  },
  {
   "cell_type": "code",
   "execution_count": 27,
   "metadata": {},
   "outputs": [],
   "source": [
    "import torch.nn as nn\n",
    "import torch.nn.functional as F\n",
    "\n",
    "class Discriminator(nn.Module):\n",
    "\n",
    "    def __init__(self, input_size, hidden_dim, output_size):\n",
    "        super(Discriminator, self).__init__()\n",
    "        \n",
    "        # Parameters\n",
    "        self.hidden_dim = 4 * hidden_dim\n",
    "        self.hidden_dim2 = hidden_dim\n",
    "        \n",
    "        # Layers\n",
    "        self.fc1 = nn.Linear(input_size, self.hidden_dim)\n",
    "        self.fc2 = nn.Linear(self.hidden_dim, self.hidden_dim2)\n",
    "        self.out = nn.Linear(self.hidden_dim2, output_size)\n",
    "        self.dropout = nn.Dropout(0.25)\n",
    "        self.leak = nn.LeakyReLU(0.1)\n",
    "        \n",
    "        \n",
    "    def forward(self, x):\n",
    "        # flatten image\n",
    "        x = x.view(x.size(0), -1)\n",
    "        \n",
    "        # pass x through all layers\n",
    "        # apply leaky relu activation to all hidden layers\n",
    "        x = self.dropout(self.leak(self.fc1(x)))\n",
    "        x = self.dropout(self.leak(self.fc2(x)))\n",
    "        x = self.out(x)\n",
    "\n",
    "        return x\n"
   ]
  },
  {
   "cell_type": "markdown",
   "metadata": {},
   "source": [
    "## Generator\n",
    "\n",
    "The generator network will be almost exactly the same as the discriminator network, except that we're applying a [tanh activation function](https://pytorch.org/docs/stable/nn.html#tanh) to our output layer.\n",
    "\n",
    "#### tanh Output\n",
    "The generator has been found to perform the best with $tanh$ for the generator output, which scales the output to be between -1 and 1, instead of 0 and 1. \n",
    "\n",
    "<img src='assets/tanh_fn.png' width=40% />\n",
    "\n",
    "Recall that we also want these outputs to be comparable to the *real* input pixel values, which are read in as normalized values between 0 and 1. \n",
    "> So, we'll also have to **scale our real input images to have pixel values between -1 and 1** when we train the discriminator. \n",
    "\n",
    "I'll do this in the training loop, later on."
   ]
  },
  {
   "cell_type": "code",
   "execution_count": 43,
   "metadata": {},
   "outputs": [],
   "source": [
    "class Generator(nn.Module):\n",
    "\n",
    "    def __init__(self, input_size, hidden_dim, output_size):\n",
    "        super(Generator, self).__init__()\n",
    "        \n",
    "        # Params\n",
    "        self.hidden_dim = hidden_dim\n",
    "        self.hidden_dim2 = hidden_dim * 4\n",
    "        \n",
    "        # Layers\n",
    "        self.fc1 = nn.Linear(input_size, hidden_dim)\n",
    "        self.fc2 = nn.Linear(hidden_dim, self.hidden_dim2)\n",
    "        self.fc3 = nn.Linear(self.hidden_dim2, output_size)\n",
    "        self.dropout = nn.Dropout(0.25)\n",
    "        self.leak = nn.LeakyReLU(0.1)\n",
    "        \n",
    "\n",
    "    def forward(self, x):\n",
    "        # pass x through all layers\n",
    "        x = self.dropout(self.leak(self.fc1(x)))\n",
    "        x = self.dropout(self.leak(self.fc2(x)))\n",
    "        \n",
    "        # final layer should have tanh applied\n",
    "        x = F.tanh(self.fc3(x))\n",
    "        \n",
    "        return x"
   ]
  },
  {
   "cell_type": "markdown",
   "metadata": {},
   "source": [
    "## Model hyperparameters"
   ]
  },
  {
   "cell_type": "code",
   "execution_count": 44,
   "metadata": {},
   "outputs": [],
   "source": [
    "# Discriminator hyperparams\n",
    "\n",
    "# Size of input image to discriminator (28*28)\n",
    "input_size = 28*28\n",
    "# Size of discriminator output (real or fake)\n",
    "d_output_size = 1\n",
    "# Size of *last* hidden layer in the discriminator\n",
    "d_hidden_size = 32\n",
    "\n",
    "# Generator hyperparams\n",
    "\n",
    "# Size of latent vector to give to generator\n",
    "z_size = 100\n",
    "# Size of discriminator output (generated image)\n",
    "g_output_size = 28*28\n",
    "# Size of *first* hidden layer in the generator\n",
    "g_hidden_size = 32"
   ]
  },
  {
   "cell_type": "markdown",
   "metadata": {},
   "source": [
    "## Build complete network\n",
    "\n",
    "Now we're instantiating the discriminator and generator from the classes defined above. Make sure you've passed in the correct input arguments."
   ]
  },
  {
   "cell_type": "code",
   "execution_count": 45,
   "metadata": {},
   "outputs": [
    {
     "name": "stdout",
     "output_type": "stream",
     "text": [
      "Discriminator(\n",
      "  (fc1): Linear(in_features=784, out_features=128, bias=True)\n",
      "  (fc2): Linear(in_features=128, out_features=32, bias=True)\n",
      "  (out): Linear(in_features=32, out_features=1, bias=True)\n",
      "  (dropout): Dropout(p=0.25, inplace=False)\n",
      "  (leak): LeakyReLU(negative_slope=0.1)\n",
      ")\n",
      "\n",
      "Generator(\n",
      "  (fc1): Linear(in_features=100, out_features=32, bias=True)\n",
      "  (fc2): Linear(in_features=32, out_features=128, bias=True)\n",
      "  (fc3): Linear(in_features=128, out_features=784, bias=True)\n",
      "  (dropout): Dropout(p=0.25, inplace=False)\n",
      "  (leak): LeakyReLU(negative_slope=0.1)\n",
      ")\n"
     ]
    }
   ],
   "source": [
    "# instantiate discriminator and generator\n",
    "D = Discriminator(input_size, d_hidden_size, d_output_size)\n",
    "G = Generator(z_size, g_hidden_size, g_output_size)\n",
    "\n",
    "# check that they are as you expect\n",
    "print(D)\n",
    "print()\n",
    "print(G)"
   ]
  },
  {
   "cell_type": "markdown",
   "metadata": {},
   "source": [
    "---\n",
    "## Discriminator and Generator Losses\n",
    "\n",
    "Now we need to calculate the losses. \n",
    "\n",
    "### Discriminator Losses\n",
    "\n",
    "> * For the discriminator, the total loss is the sum of the losses for real and fake images, `d_loss = d_real_loss + d_fake_loss`. \n",
    "* Remember that we want the discriminator to output 1 for real images and 0 for fake images, so we need to set up the losses to reflect that.\n",
    "\n",
    "<img src='assets/gan_pipeline.png' width=70% />\n",
    "\n",
    "The losses will by binary cross entropy loss with logits, which we can get with [BCEWithLogitsLoss](https://pytorch.org/docs/stable/nn.html#bcewithlogitsloss). This combines a `sigmoid` activation function **and** and binary cross entropy loss in one function.\n",
    "\n",
    "For the real images, we want `D(real_images) = 1`. That is, we want the discriminator to classify the the real images with a label = 1, indicating that these are real. To help the discriminator generalize better, the labels are **reduced a bit from 1.0 to 0.9**. For this, we'll use the parameter `smooth`; if True, then we should smooth our labels. In PyTorch, this looks like `labels = torch.ones(size) * 0.9`\n",
    "\n",
    "The discriminator loss for the fake data is similar. We want `D(fake_images) = 0`, where the fake images are the _generator output_, `fake_images = G(z)`. \n",
    "\n",
    "### Generator Loss\n",
    "\n",
    "The generator loss will look similar only with flipped labels. The generator's goal is to get `D(fake_images) = 1`. In this case, the labels are **flipped** to represent that the generator is trying to fool the discriminator into thinking that the images it generates (fakes) are real!"
   ]
  },
  {
   "cell_type": "code",
   "execution_count": 46,
   "metadata": {},
   "outputs": [],
   "source": [
    "# Calculate losses\n",
    "def real_loss(D_out, smooth=False):\n",
    "    batch_size = D_out.size(0)\n",
    "    # compare logits to real labels\n",
    "    # smooth labels if smooth=True\n",
    "    criterion = nn.BCEWithLogitsLoss()\n",
    "    labels = torch.ones(batch_size) if smooth else 0.9 * torch.ones(batch_size)\n",
    "    loss = criterion(D_out.squeeze(), labels)\n",
    "    return loss\n",
    "\n",
    "def fake_loss(D_out):\n",
    "    batch_size = D_out.size(0)\n",
    "    # compare logits to fake labels\n",
    "    criterion = nn.BCEWithLogitsLoss()\n",
    "    labels = torch.zeros(batch_size)\n",
    "    loss = criterion(D_out.squeeze(), labels)\n",
    "    return loss"
   ]
  },
  {
   "cell_type": "markdown",
   "metadata": {},
   "source": [
    "## Optimizers\n",
    "\n",
    "We want to update the generator and discriminator variables separately. So, we'll define two separate Adam optimizers."
   ]
  },
  {
   "cell_type": "code",
   "execution_count": 47,
   "metadata": {
    "scrolled": true
   },
   "outputs": [],
   "source": [
    "import torch.optim as optim\n",
    "\n",
    "# learning rate for optimizers\n",
    "lr = 0.002\n",
    "\n",
    "# Create optimizers for the discriminator and generator\n",
    "d_optimizer = optim.Adam(D.parameters(), lr=0.003)\n",
    "g_optimizer = optim.Adam(G.parameters(), lr=0.003)"
   ]
  },
  {
   "cell_type": "markdown",
   "metadata": {},
   "source": [
    "---\n",
    "## Training\n",
    "\n",
    "Training will involve alternating between training the discriminator and the generator. We'll use our functions `real_loss` and `fake_loss` to help us calculate the discriminator losses in all of the following cases.\n",
    "\n",
    "### Discriminator training\n",
    "1. Compute the discriminator loss on real, training images        \n",
    "2. Generate fake images\n",
    "3. Compute the discriminator loss on fake, generated images     \n",
    "4. Add up real and fake loss\n",
    "5. Perform backpropagation + an optimization step to update the discriminator's weights\n",
    "\n",
    "### Generator training\n",
    "1. Generate fake images\n",
    "2. Compute the discriminator loss on fake images, using **flipped** labels!\n",
    "3. Perform backpropagation + an optimization step to update the generator's weights\n",
    "\n",
    "#### Saving Samples\n",
    "\n",
    "As we train, we'll also print out some loss statistics and save some generated \"fake\" samples."
   ]
  },
  {
   "cell_type": "code",
   "execution_count": 48,
   "metadata": {
    "scrolled": true
   },
   "outputs": [
    {
     "name": "stderr",
     "output_type": "stream",
     "text": [
      "C:\\ProgramData\\Anaconda3\\lib\\site-packages\\torch\\nn\\functional.py:1339: UserWarning: nn.functional.tanh is deprecated. Use torch.tanh instead.\n",
      "  warnings.warn(\"nn.functional.tanh is deprecated. Use torch.tanh instead.\")\n"
     ]
    },
    {
     "name": "stdout",
     "output_type": "stream",
     "text": [
      "Epoch [    1/   40] | d_loss: 1.3996 | g_loss: 0.6617\n",
      "Epoch [    1/   40] | d_loss: 0.5991 | g_loss: 0.7789\n",
      "Epoch [    1/   40] | d_loss: 0.5925 | g_loss: 0.7841\n",
      "Epoch [    2/   40] | d_loss: 0.5956 | g_loss: 0.7787\n",
      "Epoch [    2/   40] | d_loss: 0.5955 | g_loss: 0.7820\n",
      "Epoch [    2/   40] | d_loss: 0.5933 | g_loss: 0.7834\n",
      "Epoch [    3/   40] | d_loss: 0.5990 | g_loss: 0.7771\n",
      "Epoch [    3/   40] | d_loss: 0.5952 | g_loss: 0.7846\n",
      "Epoch [    3/   40] | d_loss: 0.6239 | g_loss: 0.7548\n",
      "Epoch [    4/   40] | d_loss: 0.6039 | g_loss: 0.7735\n",
      "Epoch [    4/   40] | d_loss: 0.6233 | g_loss: 0.7705\n",
      "Epoch [    4/   40] | d_loss: 0.5989 | g_loss: 0.7801\n",
      "Epoch [    5/   40] | d_loss: 0.5978 | g_loss: 0.7764\n",
      "Epoch [    5/   40] | d_loss: 0.5958 | g_loss: 0.7777\n",
      "Epoch [    5/   40] | d_loss: 0.5983 | g_loss: 0.7743\n",
      "Epoch [    6/   40] | d_loss: 0.5997 | g_loss: 0.7793\n",
      "Epoch [    6/   40] | d_loss: 0.5899 | g_loss: 0.7883\n",
      "Epoch [    6/   40] | d_loss: 0.5949 | g_loss: 0.7876\n",
      "Epoch [    7/   40] | d_loss: 0.6035 | g_loss: 0.7775\n",
      "Epoch [    7/   40] | d_loss: 0.5993 | g_loss: 0.7808\n",
      "Epoch [    7/   40] | d_loss: 0.5976 | g_loss: 0.7801\n",
      "Epoch [    8/   40] | d_loss: 0.5933 | g_loss: 0.7804\n",
      "Epoch [    8/   40] | d_loss: 0.5954 | g_loss: 0.7838\n",
      "Epoch [    8/   40] | d_loss: 0.6034 | g_loss: 0.7690\n",
      "Epoch [    9/   40] | d_loss: 0.6199 | g_loss: 0.7554\n",
      "Epoch [    9/   40] | d_loss: 0.5829 | g_loss: 0.7937\n",
      "Epoch [    9/   40] | d_loss: 0.5982 | g_loss: 0.7760\n",
      "Epoch [   10/   40] | d_loss: 0.5968 | g_loss: 0.7792\n",
      "Epoch [   10/   40] | d_loss: 0.5955 | g_loss: 0.7823\n",
      "Epoch [   10/   40] | d_loss: 0.5963 | g_loss: 0.7837\n",
      "Epoch [   11/   40] | d_loss: 0.6061 | g_loss: 0.7710\n",
      "Epoch [   11/   40] | d_loss: 0.5900 | g_loss: 0.7905\n",
      "Epoch [   11/   40] | d_loss: 0.5866 | g_loss: 0.7847\n",
      "Epoch [   12/   40] | d_loss: 0.5976 | g_loss: 0.7824\n",
      "Epoch [   12/   40] | d_loss: 0.5926 | g_loss: 0.7759\n",
      "Epoch [   12/   40] | d_loss: 0.6035 | g_loss: 0.7711\n",
      "Epoch [   13/   40] | d_loss: 0.6044 | g_loss: 0.7705\n",
      "Epoch [   13/   40] | d_loss: 0.6028 | g_loss: 0.7749\n",
      "Epoch [   13/   40] | d_loss: 0.6052 | g_loss: 0.7739\n",
      "Epoch [   14/   40] | d_loss: 0.5990 | g_loss: 0.7694\n",
      "Epoch [   14/   40] | d_loss: 0.6219 | g_loss: 0.7569\n",
      "Epoch [   14/   40] | d_loss: 0.6060 | g_loss: 0.7693\n",
      "Epoch [   15/   40] | d_loss: 0.6035 | g_loss: 0.7701\n",
      "Epoch [   15/   40] | d_loss: 0.5936 | g_loss: 0.7848\n",
      "Epoch [   15/   40] | d_loss: 0.5954 | g_loss: 0.7816\n",
      "Epoch [   16/   40] | d_loss: 0.6008 | g_loss: 0.7759\n",
      "Epoch [   16/   40] | d_loss: 0.5824 | g_loss: 0.7934\n",
      "Epoch [   16/   40] | d_loss: 0.6072 | g_loss: 0.7748\n",
      "Epoch [   17/   40] | d_loss: 0.6074 | g_loss: 0.7739\n",
      "Epoch [   17/   40] | d_loss: 0.6067 | g_loss: 0.7708\n",
      "Epoch [   17/   40] | d_loss: 0.6044 | g_loss: 0.7629\n",
      "Epoch [   18/   40] | d_loss: 0.5973 | g_loss: 0.7807\n",
      "Epoch [   18/   40] | d_loss: 0.6146 | g_loss: 0.7653\n",
      "Epoch [   18/   40] | d_loss: 0.5971 | g_loss: 0.7829\n",
      "Epoch [   19/   40] | d_loss: 0.6057 | g_loss: 0.7722\n",
      "Epoch [   19/   40] | d_loss: 0.6034 | g_loss: 0.7678\n",
      "Epoch [   19/   40] | d_loss: 0.6028 | g_loss: 0.7754\n",
      "Epoch [   20/   40] | d_loss: 0.6092 | g_loss: 0.7838\n",
      "Epoch [   20/   40] | d_loss: 0.6037 | g_loss: 0.7710\n",
      "Epoch [   20/   40] | d_loss: 0.5943 | g_loss: 0.7787\n",
      "Epoch [   21/   40] | d_loss: 0.5780 | g_loss: 0.7963\n",
      "Epoch [   21/   40] | d_loss: 0.5931 | g_loss: 0.7880\n",
      "Epoch [   21/   40] | d_loss: 0.5983 | g_loss: 0.7789\n",
      "Epoch [   22/   40] | d_loss: 0.6032 | g_loss: 0.7772\n",
      "Epoch [   22/   40] | d_loss: 0.5839 | g_loss: 0.7854\n",
      "Epoch [   22/   40] | d_loss: 0.5805 | g_loss: 0.7978\n",
      "Epoch [   23/   40] | d_loss: 0.5799 | g_loss: 0.8020\n",
      "Epoch [   23/   40] | d_loss: 0.6097 | g_loss: 0.7653\n",
      "Epoch [   23/   40] | d_loss: 0.6076 | g_loss: 0.7655\n",
      "Epoch [   24/   40] | d_loss: 0.5957 | g_loss: 0.7832\n",
      "Epoch [   24/   40] | d_loss: 0.5940 | g_loss: 0.7869\n",
      "Epoch [   24/   40] | d_loss: 0.6101 | g_loss: 0.7675\n",
      "Epoch [   25/   40] | d_loss: 0.6079 | g_loss: 0.7730\n",
      "Epoch [   25/   40] | d_loss: 0.5840 | g_loss: 0.7909\n",
      "Epoch [   25/   40] | d_loss: 0.6390 | g_loss: 0.7400\n",
      "Epoch [   26/   40] | d_loss: 0.6208 | g_loss: 0.7732\n",
      "Epoch [   26/   40] | d_loss: 0.6100 | g_loss: 0.7770\n",
      "Epoch [   26/   40] | d_loss: 0.5994 | g_loss: 0.7797\n",
      "Epoch [   27/   40] | d_loss: 0.6149 | g_loss: 0.7612\n",
      "Epoch [   27/   40] | d_loss: 0.6002 | g_loss: 0.7793\n",
      "Epoch [   27/   40] | d_loss: 0.6238 | g_loss: 0.7640\n",
      "Epoch [   28/   40] | d_loss: 0.5930 | g_loss: 0.7893\n",
      "Epoch [   28/   40] | d_loss: 0.5817 | g_loss: 0.7908\n",
      "Epoch [   28/   40] | d_loss: 0.6052 | g_loss: 0.7769\n",
      "Epoch [   29/   40] | d_loss: 0.6042 | g_loss: 0.7752\n",
      "Epoch [   29/   40] | d_loss: 0.6008 | g_loss: 0.7784\n",
      "Epoch [   29/   40] | d_loss: 0.5881 | g_loss: 0.7918\n",
      "Epoch [   30/   40] | d_loss: 0.6222 | g_loss: 0.7631\n",
      "Epoch [   30/   40] | d_loss: 0.5931 | g_loss: 0.7806\n",
      "Epoch [   30/   40] | d_loss: 0.5864 | g_loss: 0.7914\n",
      "Epoch [   31/   40] | d_loss: 0.5896 | g_loss: 0.7962\n",
      "Epoch [   31/   40] | d_loss: 0.6067 | g_loss: 0.7727\n",
      "Epoch [   31/   40] | d_loss: 0.5607 | g_loss: 0.8093\n",
      "Epoch [   32/   40] | d_loss: 0.6052 | g_loss: 0.7746\n",
      "Epoch [   32/   40] | d_loss: 0.5946 | g_loss: 0.7802\n",
      "Epoch [   32/   40] | d_loss: 0.6072 | g_loss: 0.7634\n",
      "Epoch [   33/   40] | d_loss: 0.6070 | g_loss: 0.7698\n",
      "Epoch [   33/   40] | d_loss: 0.6314 | g_loss: 0.7563\n",
      "Epoch [   33/   40] | d_loss: 0.5962 | g_loss: 0.7759\n",
      "Epoch [   34/   40] | d_loss: 0.6274 | g_loss: 0.7483\n",
      "Epoch [   34/   40] | d_loss: 0.5978 | g_loss: 0.7808\n",
      "Epoch [   34/   40] | d_loss: 0.6051 | g_loss: 0.7670\n",
      "Epoch [   35/   40] | d_loss: 0.5905 | g_loss: 0.7853\n",
      "Epoch [   35/   40] | d_loss: 0.5834 | g_loss: 0.7826\n",
      "Epoch [   35/   40] | d_loss: 0.5932 | g_loss: 0.7836\n",
      "Epoch [   36/   40] | d_loss: 0.6065 | g_loss: 0.7709\n",
      "Epoch [   36/   40] | d_loss: 0.5745 | g_loss: 0.8035\n",
      "Epoch [   36/   40] | d_loss: 0.6044 | g_loss: 0.7753\n",
      "Epoch [   37/   40] | d_loss: 0.5930 | g_loss: 0.7802\n",
      "Epoch [   37/   40] | d_loss: 0.5946 | g_loss: 0.7809\n",
      "Epoch [   37/   40] | d_loss: 0.5978 | g_loss: 0.7797\n",
      "Epoch [   38/   40] | d_loss: 0.5990 | g_loss: 0.7737\n",
      "Epoch [   38/   40] | d_loss: 0.6088 | g_loss: 0.7754\n",
      "Epoch [   38/   40] | d_loss: 0.6347 | g_loss: 0.7495\n",
      "Epoch [   39/   40] | d_loss: 0.6041 | g_loss: 0.7790\n",
      "Epoch [   39/   40] | d_loss: 0.6300 | g_loss: 0.7548\n",
      "Epoch [   39/   40] | d_loss: 0.5858 | g_loss: 0.7884\n",
      "Epoch [   40/   40] | d_loss: 0.5286 | g_loss: 0.8361\n",
      "Epoch [   40/   40] | d_loss: 0.6265 | g_loss: 0.7545\n",
      "Epoch [   40/   40] | d_loss: 0.6015 | g_loss: 0.7749\n"
     ]
    }
   ],
   "source": [
    "import pickle as pkl\n",
    "\n",
    "# training hyperparams\n",
    "num_epochs = 40\n",
    "\n",
    "# keep track of loss and generated, \"fake\" samples\n",
    "samples = []\n",
    "losses = []\n",
    "\n",
    "print_every = 400\n",
    "\n",
    "# Get some fixed data for sampling. These are images that are held\n",
    "# constant throughout training, and allow us to inspect the model's performance\n",
    "sample_size=16\n",
    "fixed_z = np.random.uniform(-1, 1, size=(sample_size, z_size))\n",
    "fixed_z = torch.from_numpy(fixed_z).float()\n",
    "\n",
    "# train the network\n",
    "D.train()\n",
    "G.train()\n",
    "for epoch in range(num_epochs):\n",
    "    \n",
    "    for batch_i, (real_images, _) in enumerate(train_loader):\n",
    "                \n",
    "        batch_size = real_images.size(0)\n",
    "        \n",
    "        ## Important rescaling step ## \n",
    "        real_images = real_images*2 - 1  # rescale input images from [0,1) to [-1, 1)\n",
    "        \n",
    "        # ============================================\n",
    "        #            TRAIN THE DISCRIMINATOR\n",
    "        # ============================================\n",
    "                \n",
    "        # 1. Train with real images\n",
    "\n",
    "        # Compute the discriminator losses on real images\n",
    "        # use smoothed labels\n",
    "        d_optimizer.zero_grad()\n",
    "        d_real_outputs = D(real_images)\n",
    "        d_real_loss = real_loss(d_real_outputs, True)\n",
    "        \n",
    "        # 2. Train with fake images\n",
    "        \n",
    "        # Generate fake images\n",
    "        z = np.random.uniform(-1, 1, size=(batch_size, z_size))\n",
    "        z = torch.from_numpy(z).float()\n",
    "        fake_images = G(z)\n",
    "        \n",
    "        # Compute the discriminator losses on fake images\n",
    "        d_fake_outputs = D(fake_images)\n",
    "        d_fake_loss = fake_loss(d_fake_outputs)\n",
    "        \n",
    "        # add up real and fake losses and perform backprop\n",
    "        d_loss = d_real_loss + d_fake_loss\n",
    "        \n",
    "        \n",
    "        # =========================================\n",
    "        #            TRAIN THE GENERATOR\n",
    "        # =========================================\n",
    "        \n",
    "        # 1. Train with fake images and flipped labels\n",
    "        g_optimizer.zero_grad()\n",
    "        \n",
    "        # Generate fake images\n",
    "        z = np.random.uniform(-1, 1, size=(batch_size, z_size))\n",
    "        z = torch.from_numpy(z).float()\n",
    "        fake_images = G(z)\n",
    "        \n",
    "        # Compute the discriminator losses on fake images \n",
    "        # using flipped labels!\n",
    "        d_fake_outputs = D(fake_images)\n",
    "        g_loss = real_loss(d_fake_outputs)\n",
    "        \n",
    "        # perform backprop\n",
    "        g_loss.backward()\n",
    "        d_loss.backward()\n",
    "        \n",
    "        d_optimizer.step()\n",
    "        g_optimizer.step()\n",
    "\n",
    "        # Print some loss stats\n",
    "        if batch_i % print_every == 0:\n",
    "            # print discriminator and generator loss\n",
    "            print('Epoch [{:5d}/{:5d}] | d_loss: {:6.4f} | g_loss: {:6.4f}'.format(\n",
    "                    epoch+1, num_epochs, d_loss.item(), g_loss.item()))\n",
    "\n",
    "    \n",
    "    ## AFTER EACH EPOCH##\n",
    "    # append discriminator loss and generator loss\n",
    "    losses.append((d_loss.item(), g_loss.item()))\n",
    "    \n",
    "    # generate and save sample, fake images\n",
    "    G.eval() # eval mode for generating samples\n",
    "    samples_z = G(fixed_z)\n",
    "    samples.append(samples_z)\n",
    "    G.train() # back to train mode\n",
    "\n",
    "\n",
    "# Save training generator samples\n",
    "with open('train_samples.pkl', 'wb') as f:\n",
    "    pkl.dump(samples, f)"
   ]
  },
  {
   "cell_type": "markdown",
   "metadata": {},
   "source": [
    "## Training loss\n",
    "\n",
    "Here we'll plot the training losses for the generator and discriminator, recorded after each epoch."
   ]
  },
  {
   "cell_type": "code",
   "execution_count": 50,
   "metadata": {},
   "outputs": [
    {
     "data": {
      "text/plain": [
       "<matplotlib.legend.Legend at 0x25c180cee88>"
      ]
     },
     "execution_count": 50,
     "metadata": {},
     "output_type": "execute_result"
    },
    {
     "data": {
      "image/png": "[encoded data removed]",
      "text/plain": [
       "<Figure size 432x288 with 1 Axes>"
      ]
     },
     "metadata": {
      "needs_background": "light"
     },
     "output_type": "display_data"
    }
   ],
   "source": [
    "fig, ax = plt.subplots()\n",
    "losses = np.array(losses)\n",
    "plt.plot(losses.T[0], label='Discriminator')\n",
    "plt.plot(losses.T[1], label='Generator')\n",
    "plt.title(\"Training Losses\")\n",
    "plt.legend()"
   ]
  },
  {
   "cell_type": "markdown",
   "metadata": {},
   "source": [
    "## Generator samples from training\n",
    "\n",
    "Here we can view samples of images from the generator. First we'll look at the images we saved during training."
   ]
  },
  {
   "cell_type": "code",
   "execution_count": 51,
   "metadata": {},
   "outputs": [],
   "source": [
    "# helper function for viewing a list of passed in sample images\n",
    "def view_samples(epoch, samples):\n",
    "    fig, axes = plt.subplots(figsize=(7,7), nrows=4, ncols=4, sharey=True, sharex=True)\n",
    "    for ax, img in zip(axes.flatten(), samples[epoch]):\n",
    "        img = img.detach()\n",
    "        ax.xaxis.set_visible(False)\n",
    "        ax.yaxis.set_visible(False)\n",
    "        im = ax.imshow(img.reshape((28,28)), cmap='Greys_r')"
   ]
  },
  {
   "cell_type": "code",
   "execution_count": 52,
   "metadata": {},
   "outputs": [],
   "source": [
    "# Load samples from generator, taken while training\n",
    "with open('train_samples.pkl', 'rb') as f:\n",
    "    samples = pkl.load(f)"
   ]
  },
  {
   "cell_type": "markdown",
   "metadata": {},
   "source": [
    "These are samples from the final training epoch. You can see the generator is able to reproduce numbers like 1, 7, 3, 2. Since this is just a sample, it isn't representative of the full range of images this generator can make."
   ]
  },
  {
   "cell_type": "code",
   "execution_count": null,
   "metadata": {},
   "outputs": [],
   "source": [
    "# -1 indicates final epoch's samples (the last in the list)\n",
    "view_samples(-1, samples)"
   ]
  },
  {
   "cell_type": "markdown",
   "metadata": {},
   "source": [
    "Below I'm showing the generated images as the network was training, every 10 epochs."
   ]
  },
  {
   "cell_type": "code",
   "execution_count": null,
   "metadata": {},
   "outputs": [],
   "source": [
    "rows = 10 # split epochs into 10, so 100/10 = every 10 epochs\n",
    "cols = 6\n",
    "fig, axes = plt.subplots(figsize=(7,12), nrows=rows, ncols=cols, sharex=True, sharey=True)\n",
    "\n",
    "for sample, ax_row in zip(samples[::int(len(samples)/rows)], axes):\n",
    "    for img, ax in zip(sample[::int(len(sample)/cols)], ax_row):\n",
    "        img = img.detach()\n",
    "        ax.imshow(img.reshape((28,28)), cmap='Greys_r')\n",
    "        ax.xaxis.set_visible(False)\n",
    "        ax.yaxis.set_visible(False)"
   ]
  },
  {
   "cell_type": "markdown",
   "metadata": {},
   "source": [
    "It starts out as all noise. Then it learns to make only the center white and the rest black. You can start to see some number like structures appear out of the noise like 1s and 9s."
   ]
  },
  {
   "cell_type": "markdown",
   "metadata": {},
   "source": [
    "## Sampling from the generator\n",
    "\n",
    "We can also get completely new images from the generator by using the checkpoint we saved after training. **We just need to pass in a new latent vector $z$ and we'll get new samples**!"
   ]
  },
  {
   "cell_type": "code",
   "execution_count": null,
   "metadata": {},
   "outputs": [],
   "source": [
    "# randomly generated, new latent vectors\n",
    "sample_size=16\n",
    "rand_z = np.random.uniform(-1, 1, size=(sample_size, z_size))\n",
    "rand_z = torch.from_numpy(rand_z).float()\n",
    "\n",
    "G.eval() # eval mode\n",
    "# generated samples\n",
    "rand_images = G(rand_z)\n",
    "\n",
    "# 0 indicates the first set of samples in the passed in list\n",
    "# and we only have one batch of samples, here\n",
    "view_samples(0, [rand_images])"
   ]
  }
 ],
 "metadata": {
  "kernelspec": {
   "display_name": "Python 3",
   "language": "python",
   "name": "python3"
  },
  "language_info": {
   "codemirror_mode": {
    "name": "ipython",
    "version": 3
   },
   "file_extension": ".py",
   "mimetype": "text/x-python",
   "name": "python",
   "nbconvert_exporter": "python",
   "pygments_lexer": "ipython3",
   "version": "3.7.4"
  }
 },
 "nbformat": 4,
 "nbformat_minor": 2
}
